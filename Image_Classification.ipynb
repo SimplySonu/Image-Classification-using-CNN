{
  "nbformat": 4,
  "nbformat_minor": 0,
  "metadata": {
    "colab": {
      "name": "Image Classification.ipynb",
      "provenance": [],
      "collapsed_sections": [],
      "authorship_tag": "ABX9TyMYUaGkE6IL2W0UNo+bM47q",
      "include_colab_link": true
    },
    "kernelspec": {
      "name": "python3",
      "display_name": "Python 3"
    },
    "language_info": {
      "name": "python"
    }
  },
  "cells": [
    {
      "cell_type": "markdown",
      "metadata": {
        "id": "view-in-github",
        "colab_type": "text"
      },
      "source": [
        "<a href=\"https://colab.research.google.com/github/SimplySonu/Image-Classification-using-CNN/blob/main/Image_Classification.ipynb\" target=\"_parent\"><img src=\"https://colab.research.google.com/assets/colab-badge.svg\" alt=\"Open In Colab\"/></a>"
      ]
    },
    {
      "cell_type": "markdown",
      "metadata": {
        "id": "X7JfRESVPZ3T"
      },
      "source": [
        "<b>Image Classification Using Convolution Neural Network</b>\n",
        "\n"
      ]
    },
    {
      "cell_type": "markdown",
      "metadata": {
        "id": "J7K1kDJtwb1G"
      },
      "source": [
        "Importing required modules "
      ]
    },
    {
      "cell_type": "code",
      "metadata": {
        "id": "Q5MEBeHKPpwy"
      },
      "source": [
        "import tensorflow as tf\n",
        "from tensorflow.keras import datasets, layers, models\n",
        "import matplotlib.pyplot as plt\n",
        "import numpy as np"
      ],
      "execution_count": null,
      "outputs": []
    },
    {
      "cell_type": "markdown",
      "metadata": {
        "id": "jCXsbwmKwavF"
      },
      "source": [
        "Loading the cifar10 dataset from keras and splitting it for training and testing\n",
        "<br>In this dataset there are 10 class labels to predict\n",
        "There are 50000 training records and 10000 testing records. \n",
        "<br>\n",
        "The class labels are listed below for reference.<br>\n",
        "1) airplane\t\t\t\t\t\t\t\t\t\n",
        "2) automobile\t\t\t\t\t\t\t\t\n",
        "3) bird\t\t\t\t\t\t\t\t\t\n",
        "4) cat\t\t\t\t\t\t\t\t\t\n",
        "5) deer\t\t\t\t\t\t\t\t\t\n",
        "6) dog\t\t\t\t\t\t\t\n",
        "7) frog\t\t\t\t\t\t\t\t\n",
        "8) horse\t\t\t\t\t\t\t\t\t\t\n",
        "9) ship\t\t\t\t\t\t\t\n",
        "10) truck"
      ]
    },
    {
      "cell_type": "code",
      "metadata": {
        "id": "dpXBfoWnRYEn"
      },
      "source": [
        "#the cifar10 data is already splitted into training records and testing records\n",
        "(X_train,y_train), (X_test,y_test) = datasets.cifar10.load_data()"
      ],
      "execution_count": null,
      "outputs": []
    },
    {
      "cell_type": "markdown",
      "metadata": {
        "id": "Pq4ZuAn_b8PI"
      },
      "source": [
        "Exploring the the training and testing records using shape an reshape functions<br>\n",
        "so that we get a better overview on our dataset<br>\n",
        "shape function gives the shape of the dataset, \n",
        "<br>\n",
        "In the below given code we have the shape as <b>(50000,32,32,3)</b><br>\n",
        "where <b>50000</b> is the rows<br>\n",
        "<b>32x32</b> is the image matrix<br> \n",
        "and <b>3</b> signifies that it is a color image(RGB)   "
      ]
    },
    {
      "cell_type": "code",
      "metadata": {
        "colab": {
          "base_uri": "https://localhost:8080/"
        },
        "id": "yC6gINhmUXQs",
        "outputId": "f5de1ac3-47d1-4198-db92-063a778ab18f"
      },
      "source": [
        "X_train.shape"
      ],
      "execution_count": null,
      "outputs": [
        {
          "output_type": "execute_result",
          "data": {
            "text/plain": [
              "(50000, 32, 32, 3)"
            ]
          },
          "metadata": {
            "tags": []
          },
          "execution_count": 53
        }
      ]
    },
    {
      "cell_type": "markdown",
      "metadata": {
        "id": "08tCnevt-Ds0"
      },
      "source": [
        "y train has only the output class i.e rows and class label so the shape is (50000,1), In which 50000 signifies rows and 1 is the column."
      ]
    },
    {
      "cell_type": "code",
      "metadata": {
        "colab": {
          "base_uri": "https://localhost:8080/"
        },
        "id": "bKeQqQcCUcWF",
        "outputId": "c5b49bd9-6068-4e2d-bd98-b93f6b345b40"
      },
      "source": [
        "y_train.shape"
      ],
      "execution_count": null,
      "outputs": [
        {
          "output_type": "execute_result",
          "data": {
            "text/plain": [
              "(50000, 1)"
            ]
          },
          "metadata": {
            "tags": []
          },
          "execution_count": 54
        }
      ]
    },
    {
      "cell_type": "code",
      "metadata": {
        "colab": {
          "base_uri": "https://localhost:8080/"
        },
        "id": "4ZEqVDo9bR55",
        "outputId": "9a5551f6-164a-48e8-8dd6-5d43565ecf47"
      },
      "source": [
        "y_train[0:6]"
      ],
      "execution_count": null,
      "outputs": [
        {
          "output_type": "execute_result",
          "data": {
            "text/plain": [
              "array([[6],\n",
              "       [9],\n",
              "       [9],\n",
              "       [4],\n",
              "       [1],\n",
              "       [1]], dtype=uint8)"
            ]
          },
          "metadata": {
            "tags": []
          },
          "execution_count": 29
        }
      ]
    },
    {
      "cell_type": "code",
      "metadata": {
        "colab": {
          "base_uri": "https://localhost:8080/"
        },
        "id": "Se2S57mRa5Re",
        "outputId": "503cfc63-d69a-44d5-ce3f-e016b4fa08ff"
      },
      "source": [
        "#reshape function is used to reshape the array dimension\n",
        "y_train = y_train.reshape(-1,)\n",
        "y_train"
      ],
      "execution_count": null,
      "outputs": [
        {
          "output_type": "execute_result",
          "data": {
            "text/plain": [
              "array([6, 9, 9, ..., 9, 1, 1], dtype=uint8)"
            ]
          },
          "metadata": {
            "tags": []
          },
          "execution_count": 55
        }
      ]
    },
    {
      "cell_type": "markdown",
      "metadata": {
        "id": "F88Qdfx16mSd"
      },
      "source": [
        "Defining a function that takes X and Y values either it can be from training record or testing record for plotting a image<br>\n",
        "X implies image matrix ,\n",
        "y implies the class label,\n",
        "index implies the index of the class label which is been plotted "
      ]
    },
    {
      "cell_type": "code",
      "metadata": {
        "id": "b0W9QRrJUnq8"
      },
      "source": [
        "def sample_image(X,y, index):\n",
        "  plt.figure(figsize=(14,2))\n",
        "  plt.imshow(X[index])\n",
        "  plt.xlabel(classes[y[index]])"
      ],
      "execution_count": null,
      "outputs": []
    },
    {
      "cell_type": "code",
      "metadata": {
        "colab": {
          "base_uri": "https://localhost:8080/",
          "height": 173
        },
        "id": "HhXvpb-JZ7zo",
        "outputId": "84efd0ca-393e-4f35-bbc0-15b4b82f1724"
      },
      "source": [
        "#Ploting a image from training record\n",
        "sample_image(X_train, y_train, 0)"
      ],
      "execution_count": null,
      "outputs": [
        {
          "output_type": "display_data",
          "data": {
            "image/png": "[encoded data removed]",
            "text/plain": [
              "<Figure size 1008x144 with 1 Axes>"
            ]
          },
          "metadata": {
            "tags": [],
            "needs_background": "light"
          }
        }
      ]
    },
    {
      "cell_type": "markdown",
      "metadata": {
        "id": "BAlsMtucb_0u"
      },
      "source": [
        "<b>DATA NORMALIZAITON</b><br>\n",
        "Normalizing the values of training and testing records<br>\n",
        "I hav divided the values by 255 since the values of color ranges from 0 - 255 <br> Since this normalizaion would maxe the computation more feasible and easy\n"
      ]
    },
    {
      "cell_type": "code",
      "metadata": {
        "id": "1Lz3YvJkaGHK"
      },
      "source": [
        "X_train = X_train / 255.0\n",
        "X_test = X_test / 255.0"
      ],
      "execution_count": null,
      "outputs": []
    },
    {
      "cell_type": "markdown",
      "metadata": {
        "id": "2Ztw4VK7O28u"
      },
      "source": [
        "Next step is to built our cnn model from keras library from model.sequentail function<br>\n",
        "<br>Sequential<br>\n",
        "A Sequential model is appropriate for a plain stack of layers where each layer has exactly one input tensor and one output tensor.<br>\n",
        "1) To the first layer we have added <b>Conv2D</b> matrix layer(A Convolutional neural network is a neural network that has one or more convolutional layers and are used mainly for image processing, classification, segmentation and also for other auto correlated data. A convolution is essentially sliding a filter over the input)<br> that takes the nuber of filters to be used, the filter size, activation function, inpute shape. <br>\n",
        "In our case we hav used 20 filters of size (2x2) matrix,<br> Relu activation function that is a linear function that will output the input directly if it is positive, otherwise, it will output zero, so basically it is an normalizing function,<br> and inpute shape(32x32x3) of our image that is shown in the above cell <br>\n",
        "<br>\n",
        "2) To the second layer i have used MaxPooling function for the pooliing layer that is of size (2x2) matrix<br>\n",
        "MaxPooling:-Max pooling is a sample-based discretization process. The objective is to down-sample an input representation (image, hidden-layer output matrix, etc.), reducing its dimensionality and allowing for assumptions to be made about features contained in the sub-regions binned\n",
        "\n",
        "3) i have repeated the first and and second step again(This step can be performed any numbers of time depending on our model)<br>\n",
        "NOTE:- <b>we need to pass the input shape only for the first time in Conv2D function </b> \n",
        "\n",
        "4)Next i have Flattend the matrix using Flatten function meaning -- converting the data into a 1-dimensional array for inputting it to the next layer. We flatten the output of the convolutional layers to create a single long feature vector. And it is connected to the final classification model, which is called a fully-connected layer.<br>\n",
        "<br>\n",
        "5) Next layer is the neural network layer <b>layer.dense(100,activation='relu')</b> that consist of 100 hidden neurons for updating the weights and i have used relu as the activation function.This layer helps the model to learn and predict the output accurately\n",
        "6) Last layer is the output layer <b>(layers.Dense(10,activation=\"softmax\"))</b> in which 10 specifies class label, and used a softmax activation function.\n",
        "\n",
        "\n"
      ]
    },
    {
      "cell_type": "code",
      "metadata": {
        "id": "VVDMKZmijnMr"
      },
      "source": [
        "cnn =  models.Sequential([\n",
        "                          #using convolution layer with 32 filters of size(3*3) and activation function \"relu\" and the input image of shape (32,32,3)\n",
        "                          #cnn layer\n",
        "                          #input_shape should be passed only in the initial layer of cnn\n",
        "                          layers.Conv2D(filters=20, kernel_size=(2,2), activation='relu',input_shape=(32,32,3)),\n",
        "                          layers.MaxPooling2D((2,2)),\n",
        "                          \n",
        "                          layers.Conv2D(filters=20, kernel_size=(2,2), activation='relu'),\n",
        "                          layers.MaxPooling2D((2,2)),\n",
        "                          layers.Flatten(),\n",
        "                          \n",
        "                          layers.Dense(100, activation='relu'), # hidden 64 neurons of dense layer 1\n",
        "                          layers.Dense(10,activation=\"softmax\")#output layer with 10 class labels \n",
        "\n",
        "])"
      ],
      "execution_count": null,
      "outputs": []
    },
    {
      "cell_type": "markdown",
      "metadata": {
        "id": "XgU0H1vmbR_K"
      },
      "source": [
        "Once the model is ready the next step is to compile and eavaluate the model."
      ]
    },
    {
      "cell_type": "code",
      "metadata": {
        "id": "m_0R3-3gqc6B"
      },
      "source": [
        "cnn.compile(optimizer='adam',\n",
        "            loss='sparse_categorical_crossentropy',\n",
        "            metrics = ['accuracy'])"
      ],
      "execution_count": null,
      "outputs": []
    },
    {
      "cell_type": "markdown",
      "metadata": {
        "id": "g20sd9GibmTf"
      },
      "source": [
        "Next I have fit the model with training set and training the model for 20 epochs(iterations)<br>The Model is 83 percent accurate<br>\n",
        "And the model is ready to predict."
      ]
    },
    {
      "cell_type": "code",
      "metadata": {
        "colab": {
          "base_uri": "https://localhost:8080/"
        },
        "id": "kzVBhFZjr1kF",
        "outputId": "10cde2c9-1546-4922-daa2-befe968c295f"
      },
      "source": [
        "cnn.fit(X_train,y_train,epochs = 20)"
      ],
      "execution_count": null,
      "outputs": [
        {
          "output_type": "stream",
          "text": [
            "Epoch 1/20\n",
            "1563/1563 [==============================] - 30s 19ms/step - loss: 1.7276 - accuracy: 0.3741\n",
            "Epoch 2/20\n",
            "1563/1563 [==============================] - 30s 19ms/step - loss: 1.2845 - accuracy: 0.5437\n",
            "Epoch 3/20\n",
            "1563/1563 [==============================] - 30s 19ms/step - loss: 1.1133 - accuracy: 0.6075\n",
            "Epoch 4/20\n",
            "1563/1563 [==============================] - 30s 19ms/step - loss: 1.0269 - accuracy: 0.6387\n",
            "Epoch 5/20\n",
            "1563/1563 [==============================] - 30s 19ms/step - loss: 0.9553 - accuracy: 0.6658\n",
            "Epoch 6/20\n",
            "1563/1563 [==============================] - 30s 19ms/step - loss: 0.8913 - accuracy: 0.6875\n",
            "Epoch 7/20\n",
            "1563/1563 [==============================] - 30s 19ms/step - loss: 0.8406 - accuracy: 0.7042\n",
            "Epoch 8/20\n",
            "1563/1563 [==============================] - 30s 19ms/step - loss: 0.8015 - accuracy: 0.7196\n",
            "Epoch 9/20\n",
            "1563/1563 [==============================] - 30s 19ms/step - loss: 0.7606 - accuracy: 0.7314\n",
            "Epoch 10/20\n",
            "1563/1563 [==============================] - 30s 19ms/step - loss: 0.7111 - accuracy: 0.7525\n",
            "Epoch 11/20\n",
            "1563/1563 [==============================] - 30s 19ms/step - loss: 0.6902 - accuracy: 0.7565\n",
            "Epoch 12/20\n",
            "1563/1563 [==============================] - 30s 19ms/step - loss: 0.6553 - accuracy: 0.7715\n",
            "Epoch 13/20\n",
            "1563/1563 [==============================] - 29s 19ms/step - loss: 0.6259 - accuracy: 0.7805\n",
            "Epoch 14/20\n",
            "1563/1563 [==============================] - 30s 19ms/step - loss: 0.5939 - accuracy: 0.7912\n",
            "Epoch 15/20\n",
            "1563/1563 [==============================] - 30s 19ms/step - loss: 0.5655 - accuracy: 0.8015\n",
            "Epoch 16/20\n",
            "1563/1563 [==============================] - 30s 19ms/step - loss: 0.5500 - accuracy: 0.8070\n",
            "Epoch 17/20\n",
            "1563/1563 [==============================] - 30s 19ms/step - loss: 0.5266 - accuracy: 0.8164\n",
            "Epoch 18/20\n",
            "1563/1563 [==============================] - 30s 19ms/step - loss: 0.5079 - accuracy: 0.8221\n",
            "Epoch 19/20\n",
            "1563/1563 [==============================] - 30s 19ms/step - loss: 0.4719 - accuracy: 0.8355\n",
            "Epoch 20/20\n",
            "1563/1563 [==============================] - 30s 19ms/step - loss: 0.4577 - accuracy: 0.8399\n"
          ],
          "name": "stdout"
        },
        {
          "output_type": "execute_result",
          "data": {
            "text/plain": [
              "<tensorflow.python.keras.callbacks.History at 0x7f2af1a1a250>"
            ]
          },
          "metadata": {
            "tags": []
          },
          "execution_count": 66
        }
      ]
    },
    {
      "cell_type": "code",
      "metadata": {
        "colab": {
          "base_uri": "https://localhost:8080/"
        },
        "id": "sHwXNnSAsUuv",
        "outputId": "3fc8a9d8-7dde-4f9e-fc21-4e540d53fd72"
      },
      "source": [
        "cnn.evaluate(X_test,y_test)"
      ],
      "execution_count": null,
      "outputs": [
        {
          "output_type": "stream",
          "text": [
            "313/313 [==============================] - 2s 7ms/step - loss: 1.1400 - accuracy: 0.6664\n"
          ],
          "name": "stdout"
        },
        {
          "output_type": "execute_result",
          "data": {
            "text/plain": [
              "[1.1400116682052612, 0.6664000153541565]"
            ]
          },
          "metadata": {
            "tags": []
          },
          "execution_count": 67
        }
      ]
    },
    {
      "cell_type": "code",
      "metadata": {
        "colab": {
          "base_uri": "https://localhost:8080/"
        },
        "id": "3sMft5jk2QLT",
        "outputId": "ef5e9da1-1dd6-4ab9-8d43-fdee86ac2d01"
      },
      "source": [
        "#converting y_test record to one dimension\n",
        "y_test=y_test.reshape(-1,)\n",
        "y_test[:5]"
      ],
      "execution_count": null,
      "outputs": [
        {
          "output_type": "execute_result",
          "data": {
            "text/plain": [
              "array([3, 8, 8, 0, 6], dtype=uint8)"
            ]
          },
          "metadata": {
            "tags": []
          },
          "execution_count": 69
        }
      ]
    },
    {
      "cell_type": "markdown",
      "metadata": {
        "id": "OgccwiIhcbR4"
      },
      "source": [
        "Next predict the labels of the data values on the basis of the trained model. The predict() function accepts only a single argument which is usually the data to be tested.<br>\n",
        "so i have predected for all the test record and displaying the first 5 image matrix"
      ]
    },
    {
      "cell_type": "code",
      "metadata": {
        "colab": {
          "base_uri": "https://localhost:8080/"
        },
        "id": "4co4LNeC2pBO",
        "outputId": "85769a85-3eec-4068-fb19-0c7fc9ce5a02"
      },
      "source": [
        "y_pred = cnn.predict(X_test)\n",
        "y_pred[:5]"
      ],
      "execution_count": null,
      "outputs": [
        {
          "output_type": "execute_result",
          "data": {
            "text/plain": [
              "array([[5.07604409e-06, 1.05414565e-05, 5.05497737e-04, 3.59187841e-01,\n",
              "        1.33194306e-04, 6.39323294e-01, 7.90477381e-04, 3.80743295e-05,\n",
              "        4.14640544e-06, 1.84614316e-06],\n",
              "       [1.06819300e-03, 3.10044318e-01, 4.40227410e-09, 7.01811498e-09,\n",
              "        5.93541771e-10, 8.48194459e-10, 1.49296020e-10, 1.10582006e-08,\n",
              "        6.87827945e-01, 1.05957815e-03],\n",
              "       [7.91070890e-03, 1.96030773e-02, 7.30448710e-06, 2.87093317e-05,\n",
              "        1.45227386e-06, 3.31116837e-07, 6.55204668e-10, 1.45339880e-06,\n",
              "        9.55487728e-01, 1.69592053e-02],\n",
              "       [3.92428547e-01, 6.52367016e-04, 2.87988572e-03, 7.02368270e-04,\n",
              "        1.74936955e-03, 5.06824326e-05, 6.81657475e-05, 1.40533748e-05,\n",
              "        6.01330101e-01, 1.24412065e-04],\n",
              "       [1.31326274e-08, 1.41127521e-09, 3.97225143e-03, 4.98819798e-02,\n",
              "        2.15930194e-01, 1.04072233e-05, 7.30205178e-01, 2.61386788e-08,\n",
              "        1.54681743e-08, 5.08729343e-11]], dtype=float32)"
            ]
          },
          "metadata": {
            "tags": []
          },
          "execution_count": 73
        }
      ]
    },
    {
      "cell_type": "markdown",
      "metadata": {
        "id": "JhMu2aU4dHlV"
      },
      "source": [
        "Iterating over all the list of y_pred values that is of 2Dimension array and taxing only the index of the maximum value from all the list and storing it in a variable(y_predClass) and displaying the first five index value that the model has predicted"
      ]
    },
    {
      "cell_type": "code",
      "metadata": {
        "colab": {
          "base_uri": "https://localhost:8080/"
        },
        "id": "GOvfwhir29XV",
        "outputId": "4f3d615c-75ca-4230-81ec-1206e5b2815a"
      },
      "source": [
        "y_predClasses = [np.argmax(element) for element in y_pred]\n",
        "print(y_predClasses[0:5])\n",
        "print(y_test[:5])"
      ],
      "execution_count": null,
      "outputs": [
        {
          "output_type": "stream",
          "text": [
            "[5, 8, 8, 8, 6]\n",
            "[3 8 8 0 6]\n"
          ],
          "name": "stdout"
        }
      ]
    },
    {
      "cell_type": "markdown",
      "metadata": {
        "id": "PDGX626yePXG"
      },
      "source": [
        "The first five class label index that the model has predicted are <br>[5,8,8,8,6] and the actual class label index which is stored in y_test are <br>[3,8,8,0,6] <br>\n",
        "if we compare both the list we see that the model has correctly predicted 3 class"
      ]
    },
    {
      "cell_type": "markdown",
      "metadata": {
        "id": "10w5-n9cftyJ"
      },
      "source": [
        "Let's see an example below\n"
      ]
    },
    {
      "cell_type": "code",
      "metadata": {
        "colab": {
          "base_uri": "https://localhost:8080/",
          "height": 173
        },
        "id": "IrzN_Cge5aup",
        "outputId": "2a3e48bb-b84a-490f-cd74-77bb50eb85aa"
      },
      "source": [
        "#plotting image from test record of 11th index\n",
        "\n",
        "sample_image(X_test,y_test,11)"
      ],
      "execution_count": null,
      "outputs": [
        {
          "output_type": "display_data",
          "data": {
            "image/png": "[encoded data removed]",
            "text/plain": [
              "<Figure size 1008x144 with 1 Axes>"
            ]
          },
          "metadata": {
            "tags": [],
            "needs_background": "light"
          }
        }
      ]
    },
    {
      "cell_type": "markdown",
      "metadata": {
        "id": "5vEzw5vHhql7"
      },
      "source": [
        "The model has correctly predicted the image as truck"
      ]
    },
    {
      "cell_type": "code",
      "metadata": {
        "colab": {
          "base_uri": "https://localhost:8080/",
          "height": 35
        },
        "id": "Hsb84Xhs59I5",
        "outputId": "ff5e5255-d741-4712-9495-7809727e6758"
      },
      "source": [
        "#class that model has predicted for the 11th image from the test record \n",
        "classes[y_predClasses[11]]"
      ],
      "execution_count": null,
      "outputs": [
        {
          "output_type": "execute_result",
          "data": {
            "application/vnd.google.colaboratory.intrinsic+json": {
              "type": "string"
            },
            "text/plain": [
              "'truck'"
            ]
          },
          "metadata": {
            "tags": []
          },
          "execution_count": 91
        }
      ]
    },
    {
      "cell_type": "code",
      "metadata": {
        "id": "RlF3I1Ja6Ij5"
      },
      "source": [
        ""
      ],
      "execution_count": null,
      "outputs": []
    }
  ]
}